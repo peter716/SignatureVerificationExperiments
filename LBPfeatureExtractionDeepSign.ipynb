{
  "nbformat": 4,
  "nbformat_minor": 0,
  "metadata": {
    "colab": {
      "provenance": [],
      "machine_shape": "hm"
    },
    "kernelspec": {
      "name": "python3",
      "display_name": "Python 3"
    },
    "language_info": {
      "name": "python"
    }
  },
  "cells": [
    {
      "cell_type": "markdown",
      "source": [
        "Reference: https://becominghuman.ai/local-binary-pattern-features-for-texture-classification-d0dfd86ebf29"
      ],
      "metadata": {
        "id": "EfthiYyXmQl_"
      }
    },
    {
      "cell_type": "code",
      "execution_count": null,
      "metadata": {
        "colab": {
          "base_uri": "https://localhost:8080/"
        },
        "id": "cOTq8d6YUrfH",
        "outputId": "43d9831e-4c0d-4f17-ff51-6b668c912f3f"
      },
      "outputs": [
        {
          "output_type": "stream",
          "name": "stdout",
          "text": [
            "Mounted at /content/drive\n"
          ]
        }
      ],
      "source": [
        "from google.colab import drive\n",
        "drive.mount('/content/drive', force_remount=True)"
      ]
    },
    {
      "cell_type": "code",
      "source": [
        "import os\n",
        "import cv2\n",
        "import numpy as np\n",
        "import matplotlib.pyplot as plt\n",
        "import pandas as pd\n",
        "from tqdm import tqdm\n",
        "\n",
        "from skimage.feature import local_binary_pattern\n",
        "from sklearn.model_selection import train_test_split\n",
        "\n",
        "from sklearn.svm import SVC\n",
        "from sklearn.linear_model import LogisticRegression\n",
        "from sklearn.neighbors import KNeighborsClassifier\n",
        "from sklearn.ensemble import RandomForestClassifier\n",
        "from sklearn.metrics import accuracy_score, classification_report, confusion_matrix"
      ],
      "metadata": {
        "id": "tv8mz9iyUyP_"
      },
      "execution_count": null,
      "outputs": []
    },
    {
      "cell_type": "code",
      "source": [
        "mcyt_df = pd.read_csv(\"/content/drive/MyDrive/SignatureVerificationCylab/MCYT_training.csv\")"
      ],
      "metadata": {
        "id": "z-z6qlZ3eTL4"
      },
      "execution_count": null,
      "outputs": []
    },
    {
      "cell_type": "code",
      "source": [
        "mcyt_df"
      ],
      "metadata": {
        "colab": {
          "base_uri": "https://localhost:8080/",
          "height": 424
        },
        "id": "x7EbW7QNhFcs",
        "outputId": "1abaf9da-58b9-4301-9c11-30940f975c1b"
      },
      "execution_count": null,
      "outputs": [
        {
          "output_type": "execute_result",
          "data": {
            "text/plain": [
              "       Unnamed: 0             filename user id tag\n",
              "0               0  u0001_g_0100v01.txt   u0001   g\n",
              "1               1  u0001_g_0100v00.txt   u0001   g\n",
              "2               2  u0216_g_0420v23.txt   u0216   g\n",
              "3               3  u0216_g_0420v17.txt   u0216   g\n",
              "4               4  u0216_g_0420v16.txt   u0216   g\n",
              "...           ...                  ...     ...  ..\n",
              "11495       11495  u0015_s_0114f22.txt   u0015   s\n",
              "11496       11496  u0015_s_0114f17.txt   u0015   s\n",
              "11497       11497  u0016_g_0115v17.txt   u0016   g\n",
              "11498       11498  u0016_g_0115v13.txt   u0016   g\n",
              "11499       11499  u0016_g_0115v10.txt   u0016   g\n",
              "\n",
              "[11500 rows x 4 columns]"
            ],
            "text/html": [
              "\n",
              "\n",
              "  <div id=\"df-80a292c0-7e21-4b25-870e-d37dce4e4738\">\n",
              "    <div class=\"colab-df-container\">\n",
              "      <div>\n",
              "<style scoped>\n",
              "    .dataframe tbody tr th:only-of-type {\n",
              "        vertical-align: middle;\n",
              "    }\n",
              "\n",
              "    .dataframe tbody tr th {\n",
              "        vertical-align: top;\n",
              "    }\n",
              "\n",
              "    .dataframe thead th {\n",
              "        text-align: right;\n",
              "    }\n",
              "</style>\n",
              "<table border=\"1\" class=\"dataframe\">\n",
              "  <thead>\n",
              "    <tr style=\"text-align: right;\">\n",
              "      <th></th>\n",
              "      <th>Unnamed: 0</th>\n",
              "      <th>filename</th>\n",
              "      <th>user id</th>\n",
              "      <th>tag</th>\n",
              "    </tr>\n",
              "  </thead>\n",
              "  <tbody>\n",
              "    <tr>\n",
              "      <th>0</th>\n",
              "      <td>0</td>\n",
              "      <td>u0001_g_0100v01.txt</td>\n",
              "      <td>u0001</td>\n",
              "      <td>g</td>\n",
              "    </tr>\n",
              "    <tr>\n",
              "      <th>1</th>\n",
              "      <td>1</td>\n",
              "      <td>u0001_g_0100v00.txt</td>\n",
              "      <td>u0001</td>\n",
              "      <td>g</td>\n",
              "    </tr>\n",
              "    <tr>\n",
              "      <th>2</th>\n",
              "      <td>2</td>\n",
              "      <td>u0216_g_0420v23.txt</td>\n",
              "      <td>u0216</td>\n",
              "      <td>g</td>\n",
              "    </tr>\n",
              "    <tr>\n",
              "      <th>3</th>\n",
              "      <td>3</td>\n",
              "      <td>u0216_g_0420v17.txt</td>\n",
              "      <td>u0216</td>\n",
              "      <td>g</td>\n",
              "    </tr>\n",
              "    <tr>\n",
              "      <th>4</th>\n",
              "      <td>4</td>\n",
              "      <td>u0216_g_0420v16.txt</td>\n",
              "      <td>u0216</td>\n",
              "      <td>g</td>\n",
              "    </tr>\n",
              "    <tr>\n",
              "      <th>...</th>\n",
              "      <td>...</td>\n",
              "      <td>...</td>\n",
              "      <td>...</td>\n",
              "      <td>...</td>\n",
              "    </tr>\n",
              "    <tr>\n",
              "      <th>11495</th>\n",
              "      <td>11495</td>\n",
              "      <td>u0015_s_0114f22.txt</td>\n",
              "      <td>u0015</td>\n",
              "      <td>s</td>\n",
              "    </tr>\n",
              "    <tr>\n",
              "      <th>11496</th>\n",
              "      <td>11496</td>\n",
              "      <td>u0015_s_0114f17.txt</td>\n",
              "      <td>u0015</td>\n",
              "      <td>s</td>\n",
              "    </tr>\n",
              "    <tr>\n",
              "      <th>11497</th>\n",
              "      <td>11497</td>\n",
              "      <td>u0016_g_0115v17.txt</td>\n",
              "      <td>u0016</td>\n",
              "      <td>g</td>\n",
              "    </tr>\n",
              "    <tr>\n",
              "      <th>11498</th>\n",
              "      <td>11498</td>\n",
              "      <td>u0016_g_0115v13.txt</td>\n",
              "      <td>u0016</td>\n",
              "      <td>g</td>\n",
              "    </tr>\n",
              "    <tr>\n",
              "      <th>11499</th>\n",
              "      <td>11499</td>\n",
              "      <td>u0016_g_0115v10.txt</td>\n",
              "      <td>u0016</td>\n",
              "      <td>g</td>\n",
              "    </tr>\n",
              "  </tbody>\n",
              "</table>\n",
              "<p>11500 rows × 4 columns</p>\n",
              "</div>\n",
              "      <button class=\"colab-df-convert\" onclick=\"convertToInteractive('df-80a292c0-7e21-4b25-870e-d37dce4e4738')\"\n",
              "              title=\"Convert this dataframe to an interactive table.\"\n",
              "              style=\"display:none;\">\n",
              "\n",
              "  <svg xmlns=\"http://www.w3.org/2000/svg\" height=\"24px\"viewBox=\"0 0 24 24\"\n",
              "       width=\"24px\">\n",
              "    <path d=\"M0 0h24v24H0V0z\" fill=\"none\"/>\n",
              "    <path d=\"M18.56 5.44l.94 2.06.94-2.06 2.06-.94-2.06-.94-.94-2.06-.94 2.06-2.06.94zm-11 1L8.5 8.5l.94-2.06 2.06-.94-2.06-.94L8.5 2.5l-.94 2.06-2.06.94zm10 10l.94 2.06.94-2.06 2.06-.94-2.06-.94-.94-2.06-.94 2.06-2.06.94z\"/><path d=\"M17.41 7.96l-1.37-1.37c-.4-.4-.92-.59-1.43-.59-.52 0-1.04.2-1.43.59L10.3 9.45l-7.72 7.72c-.78.78-.78 2.05 0 2.83L4 21.41c.39.39.9.59 1.41.59.51 0 1.02-.2 1.41-.59l7.78-7.78 2.81-2.81c.8-.78.8-2.07 0-2.86zM5.41 20L4 18.59l7.72-7.72 1.47 1.35L5.41 20z\"/>\n",
              "  </svg>\n",
              "      </button>\n",
              "\n",
              "\n",
              "\n",
              "    <div id=\"df-aa4c19ed-cc35-450b-8eed-07e435c6bbcd\">\n",
              "      <button class=\"colab-df-quickchart\" onclick=\"quickchart('df-aa4c19ed-cc35-450b-8eed-07e435c6bbcd')\"\n",
              "              title=\"Suggest charts.\"\n",
              "              style=\"display:none;\">\n",
              "\n",
              "<svg xmlns=\"http://www.w3.org/2000/svg\" height=\"24px\"viewBox=\"0 0 24 24\"\n",
              "     width=\"24px\">\n",
              "    <g>\n",
              "        <path d=\"M19 3H5c-1.1 0-2 .9-2 2v14c0 1.1.9 2 2 2h14c1.1 0 2-.9 2-2V5c0-1.1-.9-2-2-2zM9 17H7v-7h2v7zm4 0h-2V7h2v10zm4 0h-2v-4h2v4z\"/>\n",
              "    </g>\n",
              "</svg>\n",
              "      </button>\n",
              "    </div>\n",
              "\n",
              "<style>\n",
              "  .colab-df-quickchart {\n",
              "    background-color: #E8F0FE;\n",
              "    border: none;\n",
              "    border-radius: 50%;\n",
              "    cursor: pointer;\n",
              "    display: none;\n",
              "    fill: #1967D2;\n",
              "    height: 32px;\n",
              "    padding: 0 0 0 0;\n",
              "    width: 32px;\n",
              "  }\n",
              "\n",
              "  .colab-df-quickchart:hover {\n",
              "    background-color: #E2EBFA;\n",
              "    box-shadow: 0px 1px 2px rgba(60, 64, 67, 0.3), 0px 1px 3px 1px rgba(60, 64, 67, 0.15);\n",
              "    fill: #174EA6;\n",
              "  }\n",
              "\n",
              "  [theme=dark] .colab-df-quickchart {\n",
              "    background-color: #3B4455;\n",
              "    fill: #D2E3FC;\n",
              "  }\n",
              "\n",
              "  [theme=dark] .colab-df-quickchart:hover {\n",
              "    background-color: #434B5C;\n",
              "    box-shadow: 0px 1px 3px 1px rgba(0, 0, 0, 0.15);\n",
              "    filter: drop-shadow(0px 1px 2px rgba(0, 0, 0, 0.3));\n",
              "    fill: #FFFFFF;\n",
              "  }\n",
              "</style>\n",
              "\n",
              "    <script>\n",
              "      async function quickchart(key) {\n",
              "        const containerElement = document.querySelector('#' + key);\n",
              "        const charts = await google.colab.kernel.invokeFunction(\n",
              "            'suggestCharts', [key], {});\n",
              "      }\n",
              "    </script>\n",
              "\n",
              "      <script>\n",
              "\n",
              "function displayQuickchartButton(domScope) {\n",
              "  let quickchartButtonEl =\n",
              "    domScope.querySelector('#df-aa4c19ed-cc35-450b-8eed-07e435c6bbcd button.colab-df-quickchart');\n",
              "  quickchartButtonEl.style.display =\n",
              "    google.colab.kernel.accessAllowed ? 'block' : 'none';\n",
              "}\n",
              "\n",
              "        displayQuickchartButton(document);\n",
              "      </script>\n",
              "      <style>\n",
              "    .colab-df-container {\n",
              "      display:flex;\n",
              "      flex-wrap:wrap;\n",
              "      gap: 12px;\n",
              "    }\n",
              "\n",
              "    .colab-df-convert {\n",
              "      background-color: #E8F0FE;\n",
              "      border: none;\n",
              "      border-radius: 50%;\n",
              "      cursor: pointer;\n",
              "      display: none;\n",
              "      fill: #1967D2;\n",
              "      height: 32px;\n",
              "      padding: 0 0 0 0;\n",
              "      width: 32px;\n",
              "    }\n",
              "\n",
              "    .colab-df-convert:hover {\n",
              "      background-color: #E2EBFA;\n",
              "      box-shadow: 0px 1px 2px rgba(60, 64, 67, 0.3), 0px 1px 3px 1px rgba(60, 64, 67, 0.15);\n",
              "      fill: #174EA6;\n",
              "    }\n",
              "\n",
              "    [theme=dark] .colab-df-convert {\n",
              "      background-color: #3B4455;\n",
              "      fill: #D2E3FC;\n",
              "    }\n",
              "\n",
              "    [theme=dark] .colab-df-convert:hover {\n",
              "      background-color: #434B5C;\n",
              "      box-shadow: 0px 1px 3px 1px rgba(0, 0, 0, 0.15);\n",
              "      filter: drop-shadow(0px 1px 2px rgba(0, 0, 0, 0.3));\n",
              "      fill: #FFFFFF;\n",
              "    }\n",
              "  </style>\n",
              "\n",
              "      <script>\n",
              "        const buttonEl =\n",
              "          document.querySelector('#df-80a292c0-7e21-4b25-870e-d37dce4e4738 button.colab-df-convert');\n",
              "        buttonEl.style.display =\n",
              "          google.colab.kernel.accessAllowed ? 'block' : 'none';\n",
              "\n",
              "        async function convertToInteractive(key) {\n",
              "          const element = document.querySelector('#df-80a292c0-7e21-4b25-870e-d37dce4e4738');\n",
              "          const dataTable =\n",
              "            await google.colab.kernel.invokeFunction('convertToInteractive',\n",
              "                                                     [key], {});\n",
              "          if (!dataTable) return;\n",
              "\n",
              "          const docLinkHtml = 'Like what you see? Visit the ' +\n",
              "            '<a target=\"_blank\" href=https://colab.research.google.com/notebooks/data_table.ipynb>data table notebook</a>'\n",
              "            + ' to learn more about interactive tables.';\n",
              "          element.innerHTML = '';\n",
              "          dataTable['output_type'] = 'display_data';\n",
              "          await google.colab.output.renderOutput(dataTable, element);\n",
              "          const docLink = document.createElement('div');\n",
              "          docLink.innerHTML = docLinkHtml;\n",
              "          element.appendChild(docLink);\n",
              "        }\n",
              "      </script>\n",
              "    </div>\n",
              "  </div>\n"
            ]
          },
          "metadata": {},
          "execution_count": 4
        }
      ]
    },
    {
      "cell_type": "code",
      "source": [
        "u0216_df = mcyt_df[mcyt_df[\"user id\"] == \"u0216\"]"
      ],
      "metadata": {
        "id": "z3OF1flmweNr"
      },
      "execution_count": null,
      "outputs": []
    },
    {
      "cell_type": "code",
      "source": [
        "def label_encoding(label):\n",
        "  if label == \"g\":\n",
        "    return 1\n",
        "  elif label == \"s\":\n",
        "    return 0"
      ],
      "metadata": {
        "id": "QiNf2FKWebCM"
      },
      "execution_count": null,
      "outputs": []
    },
    {
      "cell_type": "code",
      "source": [],
      "metadata": {
        "id": "eskJVAQjnlva"
      },
      "execution_count": null,
      "outputs": []
    },
    {
      "cell_type": "code",
      "source": [
        "u0216_df[\"tag\"] = u0216_df[\"tag\"].apply(label_encoding)"
      ],
      "metadata": {
        "id": "5AZR0Wevl_gV",
        "colab": {
          "base_uri": "https://localhost:8080/"
        },
        "outputId": "0a593977-77c9-48ed-e045-23cd3aa506df"
      },
      "execution_count": null,
      "outputs": [
        {
          "output_type": "stream",
          "name": "stderr",
          "text": [
            "<ipython-input-7-357c2427656f>:1: SettingWithCopyWarning: \n",
            "A value is trying to be set on a copy of a slice from a DataFrame.\n",
            "Try using .loc[row_indexer,col_indexer] = value instead\n",
            "\n",
            "See the caveats in the documentation: https://pandas.pydata.org/pandas-docs/stable/user_guide/indexing.html#returning-a-view-versus-a-copy\n",
            "  u0216_df[\"tag\"] = u0216_df[\"tag\"].apply(label_encoding)\n"
          ]
        }
      ]
    },
    {
      "cell_type": "code",
      "source": [
        "u0216_df"
      ],
      "metadata": {
        "colab": {
          "base_uri": "https://localhost:8080/",
          "height": 1000
        },
        "id": "jFrtTg2BmI5b",
        "outputId": "2f751d43-97ab-49bb-d518-cc4e1520caa3"
      },
      "execution_count": null,
      "outputs": [
        {
          "output_type": "execute_result",
          "data": {
            "text/plain": [
              "      Unnamed: 0             filename user id  tag\n",
              "2              2  u0216_g_0420v23.txt   u0216    1\n",
              "3              3  u0216_g_0420v17.txt   u0216    1\n",
              "4              4  u0216_g_0420v16.txt   u0216    1\n",
              "5              5  u0216_g_0420v13.txt   u0216    1\n",
              "6              6  u0216_g_0420v08.txt   u0216    1\n",
              "7              7  u0216_g_0420v18.txt   u0216    1\n",
              "8              8  u0216_g_0420v15.txt   u0216    1\n",
              "9              9  u0216_s_0420f00.txt   u0216    0\n",
              "10            10  u0216_g_0420v21.txt   u0216    1\n",
              "11            11  u0216_g_0420v09.txt   u0216    1\n",
              "12            12  u0216_g_0420v22.txt   u0216    1\n",
              "13            13  u0216_g_0420v19.txt   u0216    1\n",
              "14            14  u0216_g_0420v10.txt   u0216    1\n",
              "15            15  u0216_g_0420v14.txt   u0216    1\n",
              "16            16  u0216_g_0420v12.txt   u0216    1\n",
              "17            17  u0216_g_0420v20.txt   u0216    1\n",
              "18            18  u0216_s_0420f13.txt   u0216    0\n",
              "19            19  u0216_s_0420f14.txt   u0216    0\n",
              "20            20  u0216_s_0420f15.txt   u0216    0\n",
              "21            21  u0216_s_0420f01.txt   u0216    0\n",
              "22            22  u0216_s_0420f06.txt   u0216    0\n",
              "23            23  u0216_s_0420f08.txt   u0216    0\n",
              "24            24  u0216_s_0420f09.txt   u0216    0\n",
              "25            25  u0216_s_0420f02.txt   u0216    0\n",
              "26            26  u0216_s_0420f05.txt   u0216    0\n",
              "27            27  u0216_s_0420f12.txt   u0216    0\n",
              "28            28  u0216_s_0420f04.txt   u0216    0\n",
              "29            29  u0216_s_0420f11.txt   u0216    0\n",
              "30            30  u0216_s_0420f07.txt   u0216    0\n",
              "31            31  u0216_s_0420f03.txt   u0216    0\n",
              "32            32  u0216_s_0420f10.txt   u0216    0\n",
              "33            33  u0216_s_0420f21.txt   u0216    0\n",
              "35            35  u0216_s_0420f23.txt   u0216    0\n",
              "36            36  u0216_s_0420f24.txt   u0216    0\n",
              "37            37  u0216_s_0420f20.txt   u0216    0\n",
              "38            38  u0216_s_0420f18.txt   u0216    0\n",
              "40            40  u0216_s_0420f17.txt   u0216    0\n",
              "41            41  u0216_s_0420f16.txt   u0216    0\n",
              "42            42  u0216_s_0420f19.txt   u0216    0\n",
              "43            43  u0216_s_0420f22.txt   u0216    0\n",
              "1722        1722  u0216_g_0420v05.txt   u0216    1\n",
              "1728        1728  u0216_g_0420v07.txt   u0216    1\n",
              "1731        1731  u0216_g_0420v02.txt   u0216    1\n",
              "1733        1733  u0216_g_0420v01.txt   u0216    1\n",
              "1735        1735  u0216_g_0420v00.txt   u0216    1\n",
              "1736        1736  u0216_g_0420v06.txt   u0216    1\n",
              "1738        1738  u0216_g_0420v03.txt   u0216    1\n",
              "1739        1739  u0216_g_0420v04.txt   u0216    1\n",
              "1740        1740  u0216_g_0420v24.txt   u0216    1\n",
              "1741        1741  u0216_g_0420v11.txt   u0216    1"
            ],
            "text/html": [
              "\n",
              "\n",
              "  <div id=\"df-c72d3b66-df92-47fb-a1d8-202b7501fc86\">\n",
              "    <div class=\"colab-df-container\">\n",
              "      <div>\n",
              "<style scoped>\n",
              "    .dataframe tbody tr th:only-of-type {\n",
              "        vertical-align: middle;\n",
              "    }\n",
              "\n",
              "    .dataframe tbody tr th {\n",
              "        vertical-align: top;\n",
              "    }\n",
              "\n",
              "    .dataframe thead th {\n",
              "        text-align: right;\n",
              "    }\n",
              "</style>\n",
              "<table border=\"1\" class=\"dataframe\">\n",
              "  <thead>\n",
              "    <tr style=\"text-align: right;\">\n",
              "      <th></th>\n",
              "      <th>Unnamed: 0</th>\n",
              "      <th>filename</th>\n",
              "      <th>user id</th>\n",
              "      <th>tag</th>\n",
              "    </tr>\n",
              "  </thead>\n",
              "  <tbody>\n",
              "    <tr>\n",
              "      <th>2</th>\n",
              "      <td>2</td>\n",
              "      <td>u0216_g_0420v23.txt</td>\n",
              "      <td>u0216</td>\n",
              "      <td>1</td>\n",
              "    </tr>\n",
              "    <tr>\n",
              "      <th>3</th>\n",
              "      <td>3</td>\n",
              "      <td>u0216_g_0420v17.txt</td>\n",
              "      <td>u0216</td>\n",
              "      <td>1</td>\n",
              "    </tr>\n",
              "    <tr>\n",
              "      <th>4</th>\n",
              "      <td>4</td>\n",
              "      <td>u0216_g_0420v16.txt</td>\n",
              "      <td>u0216</td>\n",
              "      <td>1</td>\n",
              "    </tr>\n",
              "    <tr>\n",
              "      <th>5</th>\n",
              "      <td>5</td>\n",
              "      <td>u0216_g_0420v13.txt</td>\n",
              "      <td>u0216</td>\n",
              "      <td>1</td>\n",
              "    </tr>\n",
              "    <tr>\n",
              "      <th>6</th>\n",
              "      <td>6</td>\n",
              "      <td>u0216_g_0420v08.txt</td>\n",
              "      <td>u0216</td>\n",
              "      <td>1</td>\n",
              "    </tr>\n",
              "    <tr>\n",
              "      <th>7</th>\n",
              "      <td>7</td>\n",
              "      <td>u0216_g_0420v18.txt</td>\n",
              "      <td>u0216</td>\n",
              "      <td>1</td>\n",
              "    </tr>\n",
              "    <tr>\n",
              "      <th>8</th>\n",
              "      <td>8</td>\n",
              "      <td>u0216_g_0420v15.txt</td>\n",
              "      <td>u0216</td>\n",
              "      <td>1</td>\n",
              "    </tr>\n",
              "    <tr>\n",
              "      <th>9</th>\n",
              "      <td>9</td>\n",
              "      <td>u0216_s_0420f00.txt</td>\n",
              "      <td>u0216</td>\n",
              "      <td>0</td>\n",
              "    </tr>\n",
              "    <tr>\n",
              "      <th>10</th>\n",
              "      <td>10</td>\n",
              "      <td>u0216_g_0420v21.txt</td>\n",
              "      <td>u0216</td>\n",
              "      <td>1</td>\n",
              "    </tr>\n",
              "    <tr>\n",
              "      <th>11</th>\n",
              "      <td>11</td>\n",
              "      <td>u0216_g_0420v09.txt</td>\n",
              "      <td>u0216</td>\n",
              "      <td>1</td>\n",
              "    </tr>\n",
              "    <tr>\n",
              "      <th>12</th>\n",
              "      <td>12</td>\n",
              "      <td>u0216_g_0420v22.txt</td>\n",
              "      <td>u0216</td>\n",
              "      <td>1</td>\n",
              "    </tr>\n",
              "    <tr>\n",
              "      <th>13</th>\n",
              "      <td>13</td>\n",
              "      <td>u0216_g_0420v19.txt</td>\n",
              "      <td>u0216</td>\n",
              "      <td>1</td>\n",
              "    </tr>\n",
              "    <tr>\n",
              "      <th>14</th>\n",
              "      <td>14</td>\n",
              "      <td>u0216_g_0420v10.txt</td>\n",
              "      <td>u0216</td>\n",
              "      <td>1</td>\n",
              "    </tr>\n",
              "    <tr>\n",
              "      <th>15</th>\n",
              "      <td>15</td>\n",
              "      <td>u0216_g_0420v14.txt</td>\n",
              "      <td>u0216</td>\n",
              "      <td>1</td>\n",
              "    </tr>\n",
              "    <tr>\n",
              "      <th>16</th>\n",
              "      <td>16</td>\n",
              "      <td>u0216_g_0420v12.txt</td>\n",
              "      <td>u0216</td>\n",
              "      <td>1</td>\n",
              "    </tr>\n",
              "    <tr>\n",
              "      <th>17</th>\n",
              "      <td>17</td>\n",
              "      <td>u0216_g_0420v20.txt</td>\n",
              "      <td>u0216</td>\n",
              "      <td>1</td>\n",
              "    </tr>\n",
              "    <tr>\n",
              "      <th>18</th>\n",
              "      <td>18</td>\n",
              "      <td>u0216_s_0420f13.txt</td>\n",
              "      <td>u0216</td>\n",
              "      <td>0</td>\n",
              "    </tr>\n",
              "    <tr>\n",
              "      <th>19</th>\n",
              "      <td>19</td>\n",
              "      <td>u0216_s_0420f14.txt</td>\n",
              "      <td>u0216</td>\n",
              "      <td>0</td>\n",
              "    </tr>\n",
              "    <tr>\n",
              "      <th>20</th>\n",
              "      <td>20</td>\n",
              "      <td>u0216_s_0420f15.txt</td>\n",
              "      <td>u0216</td>\n",
              "      <td>0</td>\n",
              "    </tr>\n",
              "    <tr>\n",
              "      <th>21</th>\n",
              "      <td>21</td>\n",
              "      <td>u0216_s_0420f01.txt</td>\n",
              "      <td>u0216</td>\n",
              "      <td>0</td>\n",
              "    </tr>\n",
              "    <tr>\n",
              "      <th>22</th>\n",
              "      <td>22</td>\n",
              "      <td>u0216_s_0420f06.txt</td>\n",
              "      <td>u0216</td>\n",
              "      <td>0</td>\n",
              "    </tr>\n",
              "    <tr>\n",
              "      <th>23</th>\n",
              "      <td>23</td>\n",
              "      <td>u0216_s_0420f08.txt</td>\n",
              "      <td>u0216</td>\n",
              "      <td>0</td>\n",
              "    </tr>\n",
              "    <tr>\n",
              "      <th>24</th>\n",
              "      <td>24</td>\n",
              "      <td>u0216_s_0420f09.txt</td>\n",
              "      <td>u0216</td>\n",
              "      <td>0</td>\n",
              "    </tr>\n",
              "    <tr>\n",
              "      <th>25</th>\n",
              "      <td>25</td>\n",
              "      <td>u0216_s_0420f02.txt</td>\n",
              "      <td>u0216</td>\n",
              "      <td>0</td>\n",
              "    </tr>\n",
              "    <tr>\n",
              "      <th>26</th>\n",
              "      <td>26</td>\n",
              "      <td>u0216_s_0420f05.txt</td>\n",
              "      <td>u0216</td>\n",
              "      <td>0</td>\n",
              "    </tr>\n",
              "    <tr>\n",
              "      <th>27</th>\n",
              "      <td>27</td>\n",
              "      <td>u0216_s_0420f12.txt</td>\n",
              "      <td>u0216</td>\n",
              "      <td>0</td>\n",
              "    </tr>\n",
              "    <tr>\n",
              "      <th>28</th>\n",
              "      <td>28</td>\n",
              "      <td>u0216_s_0420f04.txt</td>\n",
              "      <td>u0216</td>\n",
              "      <td>0</td>\n",
              "    </tr>\n",
              "    <tr>\n",
              "      <th>29</th>\n",
              "      <td>29</td>\n",
              "      <td>u0216_s_0420f11.txt</td>\n",
              "      <td>u0216</td>\n",
              "      <td>0</td>\n",
              "    </tr>\n",
              "    <tr>\n",
              "      <th>30</th>\n",
              "      <td>30</td>\n",
              "      <td>u0216_s_0420f07.txt</td>\n",
              "      <td>u0216</td>\n",
              "      <td>0</td>\n",
              "    </tr>\n",
              "    <tr>\n",
              "      <th>31</th>\n",
              "      <td>31</td>\n",
              "      <td>u0216_s_0420f03.txt</td>\n",
              "      <td>u0216</td>\n",
              "      <td>0</td>\n",
              "    </tr>\n",
              "    <tr>\n",
              "      <th>32</th>\n",
              "      <td>32</td>\n",
              "      <td>u0216_s_0420f10.txt</td>\n",
              "      <td>u0216</td>\n",
              "      <td>0</td>\n",
              "    </tr>\n",
              "    <tr>\n",
              "      <th>33</th>\n",
              "      <td>33</td>\n",
              "      <td>u0216_s_0420f21.txt</td>\n",
              "      <td>u0216</td>\n",
              "      <td>0</td>\n",
              "    </tr>\n",
              "    <tr>\n",
              "      <th>35</th>\n",
              "      <td>35</td>\n",
              "      <td>u0216_s_0420f23.txt</td>\n",
              "      <td>u0216</td>\n",
              "      <td>0</td>\n",
              "    </tr>\n",
              "    <tr>\n",
              "      <th>36</th>\n",
              "      <td>36</td>\n",
              "      <td>u0216_s_0420f24.txt</td>\n",
              "      <td>u0216</td>\n",
              "      <td>0</td>\n",
              "    </tr>\n",
              "    <tr>\n",
              "      <th>37</th>\n",
              "      <td>37</td>\n",
              "      <td>u0216_s_0420f20.txt</td>\n",
              "      <td>u0216</td>\n",
              "      <td>0</td>\n",
              "    </tr>\n",
              "    <tr>\n",
              "      <th>38</th>\n",
              "      <td>38</td>\n",
              "      <td>u0216_s_0420f18.txt</td>\n",
              "      <td>u0216</td>\n",
              "      <td>0</td>\n",
              "    </tr>\n",
              "    <tr>\n",
              "      <th>40</th>\n",
              "      <td>40</td>\n",
              "      <td>u0216_s_0420f17.txt</td>\n",
              "      <td>u0216</td>\n",
              "      <td>0</td>\n",
              "    </tr>\n",
              "    <tr>\n",
              "      <th>41</th>\n",
              "      <td>41</td>\n",
              "      <td>u0216_s_0420f16.txt</td>\n",
              "      <td>u0216</td>\n",
              "      <td>0</td>\n",
              "    </tr>\n",
              "    <tr>\n",
              "      <th>42</th>\n",
              "      <td>42</td>\n",
              "      <td>u0216_s_0420f19.txt</td>\n",
              "      <td>u0216</td>\n",
              "      <td>0</td>\n",
              "    </tr>\n",
              "    <tr>\n",
              "      <th>43</th>\n",
              "      <td>43</td>\n",
              "      <td>u0216_s_0420f22.txt</td>\n",
              "      <td>u0216</td>\n",
              "      <td>0</td>\n",
              "    </tr>\n",
              "    <tr>\n",
              "      <th>1722</th>\n",
              "      <td>1722</td>\n",
              "      <td>u0216_g_0420v05.txt</td>\n",
              "      <td>u0216</td>\n",
              "      <td>1</td>\n",
              "    </tr>\n",
              "    <tr>\n",
              "      <th>1728</th>\n",
              "      <td>1728</td>\n",
              "      <td>u0216_g_0420v07.txt</td>\n",
              "      <td>u0216</td>\n",
              "      <td>1</td>\n",
              "    </tr>\n",
              "    <tr>\n",
              "      <th>1731</th>\n",
              "      <td>1731</td>\n",
              "      <td>u0216_g_0420v02.txt</td>\n",
              "      <td>u0216</td>\n",
              "      <td>1</td>\n",
              "    </tr>\n",
              "    <tr>\n",
              "      <th>1733</th>\n",
              "      <td>1733</td>\n",
              "      <td>u0216_g_0420v01.txt</td>\n",
              "      <td>u0216</td>\n",
              "      <td>1</td>\n",
              "    </tr>\n",
              "    <tr>\n",
              "      <th>1735</th>\n",
              "      <td>1735</td>\n",
              "      <td>u0216_g_0420v00.txt</td>\n",
              "      <td>u0216</td>\n",
              "      <td>1</td>\n",
              "    </tr>\n",
              "    <tr>\n",
              "      <th>1736</th>\n",
              "      <td>1736</td>\n",
              "      <td>u0216_g_0420v06.txt</td>\n",
              "      <td>u0216</td>\n",
              "      <td>1</td>\n",
              "    </tr>\n",
              "    <tr>\n",
              "      <th>1738</th>\n",
              "      <td>1738</td>\n",
              "      <td>u0216_g_0420v03.txt</td>\n",
              "      <td>u0216</td>\n",
              "      <td>1</td>\n",
              "    </tr>\n",
              "    <tr>\n",
              "      <th>1739</th>\n",
              "      <td>1739</td>\n",
              "      <td>u0216_g_0420v04.txt</td>\n",
              "      <td>u0216</td>\n",
              "      <td>1</td>\n",
              "    </tr>\n",
              "    <tr>\n",
              "      <th>1740</th>\n",
              "      <td>1740</td>\n",
              "      <td>u0216_g_0420v24.txt</td>\n",
              "      <td>u0216</td>\n",
              "      <td>1</td>\n",
              "    </tr>\n",
              "    <tr>\n",
              "      <th>1741</th>\n",
              "      <td>1741</td>\n",
              "      <td>u0216_g_0420v11.txt</td>\n",
              "      <td>u0216</td>\n",
              "      <td>1</td>\n",
              "    </tr>\n",
              "  </tbody>\n",
              "</table>\n",
              "</div>\n",
              "      <button class=\"colab-df-convert\" onclick=\"convertToInteractive('df-c72d3b66-df92-47fb-a1d8-202b7501fc86')\"\n",
              "              title=\"Convert this dataframe to an interactive table.\"\n",
              "              style=\"display:none;\">\n",
              "\n",
              "  <svg xmlns=\"http://www.w3.org/2000/svg\" height=\"24px\"viewBox=\"0 0 24 24\"\n",
              "       width=\"24px\">\n",
              "    <path d=\"M0 0h24v24H0V0z\" fill=\"none\"/>\n",
              "    <path d=\"M18.56 5.44l.94 2.06.94-2.06 2.06-.94-2.06-.94-.94-2.06-.94 2.06-2.06.94zm-11 1L8.5 8.5l.94-2.06 2.06-.94-2.06-.94L8.5 2.5l-.94 2.06-2.06.94zm10 10l.94 2.06.94-2.06 2.06-.94-2.06-.94-.94-2.06-.94 2.06-2.06.94z\"/><path d=\"M17.41 7.96l-1.37-1.37c-.4-.4-.92-.59-1.43-.59-.52 0-1.04.2-1.43.59L10.3 9.45l-7.72 7.72c-.78.78-.78 2.05 0 2.83L4 21.41c.39.39.9.59 1.41.59.51 0 1.02-.2 1.41-.59l7.78-7.78 2.81-2.81c.8-.78.8-2.07 0-2.86zM5.41 20L4 18.59l7.72-7.72 1.47 1.35L5.41 20z\"/>\n",
              "  </svg>\n",
              "      </button>\n",
              "\n",
              "\n",
              "\n",
              "    <div id=\"df-493bae60-9190-4993-8cf2-c61291e35447\">\n",
              "      <button class=\"colab-df-quickchart\" onclick=\"quickchart('df-493bae60-9190-4993-8cf2-c61291e35447')\"\n",
              "              title=\"Suggest charts.\"\n",
              "              style=\"display:none;\">\n",
              "\n",
              "<svg xmlns=\"http://www.w3.org/2000/svg\" height=\"24px\"viewBox=\"0 0 24 24\"\n",
              "     width=\"24px\">\n",
              "    <g>\n",
              "        <path d=\"M19 3H5c-1.1 0-2 .9-2 2v14c0 1.1.9 2 2 2h14c1.1 0 2-.9 2-2V5c0-1.1-.9-2-2-2zM9 17H7v-7h2v7zm4 0h-2V7h2v10zm4 0h-2v-4h2v4z\"/>\n",
              "    </g>\n",
              "</svg>\n",
              "      </button>\n",
              "    </div>\n",
              "\n",
              "<style>\n",
              "  .colab-df-quickchart {\n",
              "    background-color: #E8F0FE;\n",
              "    border: none;\n",
              "    border-radius: 50%;\n",
              "    cursor: pointer;\n",
              "    display: none;\n",
              "    fill: #1967D2;\n",
              "    height: 32px;\n",
              "    padding: 0 0 0 0;\n",
              "    width: 32px;\n",
              "  }\n",
              "\n",
              "  .colab-df-quickchart:hover {\n",
              "    background-color: #E2EBFA;\n",
              "    box-shadow: 0px 1px 2px rgba(60, 64, 67, 0.3), 0px 1px 3px 1px rgba(60, 64, 67, 0.15);\n",
              "    fill: #174EA6;\n",
              "  }\n",
              "\n",
              "  [theme=dark] .colab-df-quickchart {\n",
              "    background-color: #3B4455;\n",
              "    fill: #D2E3FC;\n",
              "  }\n",
              "\n",
              "  [theme=dark] .colab-df-quickchart:hover {\n",
              "    background-color: #434B5C;\n",
              "    box-shadow: 0px 1px 3px 1px rgba(0, 0, 0, 0.15);\n",
              "    filter: drop-shadow(0px 1px 2px rgba(0, 0, 0, 0.3));\n",
              "    fill: #FFFFFF;\n",
              "  }\n",
              "</style>\n",
              "\n",
              "    <script>\n",
              "      async function quickchart(key) {\n",
              "        const containerElement = document.querySelector('#' + key);\n",
              "        const charts = await google.colab.kernel.invokeFunction(\n",
              "            'suggestCharts', [key], {});\n",
              "      }\n",
              "    </script>\n",
              "\n",
              "      <script>\n",
              "\n",
              "function displayQuickchartButton(domScope) {\n",
              "  let quickchartButtonEl =\n",
              "    domScope.querySelector('#df-493bae60-9190-4993-8cf2-c61291e35447 button.colab-df-quickchart');\n",
              "  quickchartButtonEl.style.display =\n",
              "    google.colab.kernel.accessAllowed ? 'block' : 'none';\n",
              "}\n",
              "\n",
              "        displayQuickchartButton(document);\n",
              "      </script>\n",
              "      <style>\n",
              "    .colab-df-container {\n",
              "      display:flex;\n",
              "      flex-wrap:wrap;\n",
              "      gap: 12px;\n",
              "    }\n",
              "\n",
              "    .colab-df-convert {\n",
              "      background-color: #E8F0FE;\n",
              "      border: none;\n",
              "      border-radius: 50%;\n",
              "      cursor: pointer;\n",
              "      display: none;\n",
              "      fill: #1967D2;\n",
              "      height: 32px;\n",
              "      padding: 0 0 0 0;\n",
              "      width: 32px;\n",
              "    }\n",
              "\n",
              "    .colab-df-convert:hover {\n",
              "      background-color: #E2EBFA;\n",
              "      box-shadow: 0px 1px 2px rgba(60, 64, 67, 0.3), 0px 1px 3px 1px rgba(60, 64, 67, 0.15);\n",
              "      fill: #174EA6;\n",
              "    }\n",
              "\n",
              "    [theme=dark] .colab-df-convert {\n",
              "      background-color: #3B4455;\n",
              "      fill: #D2E3FC;\n",
              "    }\n",
              "\n",
              "    [theme=dark] .colab-df-convert:hover {\n",
              "      background-color: #434B5C;\n",
              "      box-shadow: 0px 1px 3px 1px rgba(0, 0, 0, 0.15);\n",
              "      filter: drop-shadow(0px 1px 2px rgba(0, 0, 0, 0.3));\n",
              "      fill: #FFFFFF;\n",
              "    }\n",
              "  </style>\n",
              "\n",
              "      <script>\n",
              "        const buttonEl =\n",
              "          document.querySelector('#df-c72d3b66-df92-47fb-a1d8-202b7501fc86 button.colab-df-convert');\n",
              "        buttonEl.style.display =\n",
              "          google.colab.kernel.accessAllowed ? 'block' : 'none';\n",
              "\n",
              "        async function convertToInteractive(key) {\n",
              "          const element = document.querySelector('#df-c72d3b66-df92-47fb-a1d8-202b7501fc86');\n",
              "          const dataTable =\n",
              "            await google.colab.kernel.invokeFunction('convertToInteractive',\n",
              "                                                     [key], {});\n",
              "          if (!dataTable) return;\n",
              "\n",
              "          const docLinkHtml = 'Like what you see? Visit the ' +\n",
              "            '<a target=\"_blank\" href=https://colab.research.google.com/notebooks/data_table.ipynb>data table notebook</a>'\n",
              "            + ' to learn more about interactive tables.';\n",
              "          element.innerHTML = '';\n",
              "          dataTable['output_type'] = 'display_data';\n",
              "          await google.colab.output.renderOutput(dataTable, element);\n",
              "          const docLink = document.createElement('div');\n",
              "          docLink.innerHTML = docLinkHtml;\n",
              "          element.appendChild(docLink);\n",
              "        }\n",
              "      </script>\n",
              "    </div>\n",
              "  </div>\n"
            ]
          },
          "metadata": {},
          "execution_count": 8
        }
      ]
    },
    {
      "cell_type": "code",
      "source": [],
      "metadata": {
        "id": "4Vl01eoeoPer"
      },
      "execution_count": null,
      "outputs": []
    },
    {
      "cell_type": "code",
      "source": [],
      "metadata": {
        "id": "1xq7vkwiobqA"
      },
      "execution_count": null,
      "outputs": []
    },
    {
      "cell_type": "code",
      "source": [
        "# cv2_imshow(thresholded_image)"
      ],
      "metadata": {
        "id": "9RC3v_JVdeSO"
      },
      "execution_count": null,
      "outputs": []
    },
    {
      "cell_type": "code",
      "source": [
        "def preprocess_image(filename):\n",
        "    path = \"/content/drive/MyDrive/SignatureVerificationCylab/MCYT_from_DeepSign_Images\"\n",
        "\n",
        "    output_path = \"/content/drive/MyDrive/SignatureVerificationCylab/deepsign_dataset_preprocessed/\"\n",
        "    if not os.path.exists(output_path):\n",
        "      os.makedirs(output_path)\n",
        "\n",
        "    image = cv2.imread(os.path.join(path, filename))\n",
        "\n",
        "\n",
        "    image = cv2.cvtColor(image, cv2.COLOR_RGB2GRAY)\n",
        "\n",
        "    image = cv2.resize(image, dsize=(600,300))\n",
        "\n",
        "    # Perform Otsu's thresholding to get the optimal threshold value\n",
        "    _, thresholded_image = cv2.threshold(image, 0, 255, cv2.THRESH_BINARY + cv2.THRESH_OTSU)\n",
        "\n",
        "    # print(image.shape)\n",
        "    output_image_path = os.path.join(output_path, filename)\n",
        "    # Save the binarized image to the output path\n",
        "    # print(thresholded_image)\n",
        "    cv2.imwrite(output_image_path, thresholded_image)\n",
        "\n",
        "\n"
      ],
      "metadata": {
        "id": "2JxxNJxccJyM"
      },
      "execution_count": null,
      "outputs": []
    },
    {
      "cell_type": "code",
      "source": [
        "path = \"/content/drive/MyDrive/SignatureVerificationCylab/MCYT_from_DeepSign_Images\"\n"
      ],
      "metadata": {
        "id": "xzPSZkd329JJ"
      },
      "execution_count": null,
      "outputs": []
    },
    {
      "cell_type": "code",
      "source": [],
      "metadata": {
        "id": "GZ723unR2-f8"
      },
      "execution_count": null,
      "outputs": []
    },
    {
      "cell_type": "code",
      "source": [
        "# os.listdir(path)"
      ],
      "metadata": {
        "id": "la-CNZba3cqP"
      },
      "execution_count": null,
      "outputs": []
    },
    {
      "cell_type": "code",
      "source": [
        "#Binarize all images\n",
        "for filename in u0216_df[\"filename\"]:\n",
        "  filename = filename.split(\".\")[0] + \".jpg\"\n",
        "  preprocess_image(filename)\n"
      ],
      "metadata": {
        "id": "fNUQRZNphOqm"
      },
      "execution_count": null,
      "outputs": []
    },
    {
      "cell_type": "code",
      "source": [],
      "metadata": {
        "id": "UfP4mzQJaT6o"
      },
      "execution_count": null,
      "outputs": []
    },
    {
      "cell_type": "code",
      "source": [],
      "metadata": {
        "id": "erj97e60dvtf"
      },
      "execution_count": null,
      "outputs": []
    },
    {
      "cell_type": "code",
      "source": [],
      "metadata": {
        "id": "qFoFz0Eqbaxi"
      },
      "execution_count": null,
      "outputs": []
    },
    {
      "cell_type": "code",
      "source": [
        "\n",
        "def get_images(df):\n",
        "   counter = 0\n",
        "   class_images = []\n",
        "   for filename in df[\"filename\"]:\n",
        "       path = \"/content/drive/MyDrive/SignatureVerificationCylab/deepsign_dataset_preprocessed/\"\n",
        "       filename = filename.split(\".\")[0] + \".jpg\"\n",
        "       image = cv2.imread(os.path.join(path, filename), cv2.IMREAD_GRAYSCALE)\n",
        "\n",
        "      #  print(image.shape)\n",
        "\n",
        "       class_images.append(image)\n",
        "\n",
        "\n",
        "   return np.array(class_images)\n",
        "\n",
        "\n",
        "\n"
      ],
      "metadata": {
        "id": "fAnoZFcCby3j"
      },
      "execution_count": null,
      "outputs": []
    },
    {
      "cell_type": "code",
      "source": [
        "# signer_18"
      ],
      "metadata": {
        "id": "QbLNkASYfK9V"
      },
      "execution_count": null,
      "outputs": []
    },
    {
      "cell_type": "code",
      "source": [
        "signer_0216_preprocessed= get_images(u0216_df)\n",
        "# signer_18_preprocessed= get_images(signer_18)"
      ],
      "metadata": {
        "id": "xJSaD55adI0I"
      },
      "execution_count": null,
      "outputs": []
    },
    {
      "cell_type": "code",
      "source": [
        "signer_0216_preprocessed"
      ],
      "metadata": {
        "colab": {
          "base_uri": "https://localhost:8080/"
        },
        "id": "LaRYdnwsdQUP",
        "outputId": "f901e135-747f-4f4b-cd19-460ce089339f"
      },
      "execution_count": null,
      "outputs": [
        {
          "output_type": "execute_result",
          "data": {
            "text/plain": [
              "array([[[255, 255, 255, ..., 255, 255, 255],\n",
              "        [255, 255, 255, ..., 255, 255, 255],\n",
              "        [255, 255, 255, ..., 255, 255, 255],\n",
              "        ...,\n",
              "        [255, 255, 255, ..., 255, 255, 255],\n",
              "        [255, 255, 255, ..., 255, 255, 255],\n",
              "        [255, 255, 255, ..., 255, 255, 255]],\n",
              "\n",
              "       [[255, 255, 255, ..., 255, 255, 255],\n",
              "        [255, 255, 255, ..., 255, 255, 255],\n",
              "        [255, 255, 255, ..., 255, 255, 255],\n",
              "        ...,\n",
              "        [255, 255, 255, ..., 255, 255, 255],\n",
              "        [255, 255, 255, ..., 255, 255, 255],\n",
              "        [255, 255, 255, ..., 255, 255, 255]],\n",
              "\n",
              "       [[255, 255, 255, ..., 255, 255, 255],\n",
              "        [255, 255, 255, ..., 255, 255, 255],\n",
              "        [255, 255, 255, ..., 255, 255, 255],\n",
              "        ...,\n",
              "        [255, 255, 255, ..., 255, 255, 255],\n",
              "        [255, 255, 255, ..., 255, 255, 255],\n",
              "        [255, 255, 255, ..., 255, 255, 255]],\n",
              "\n",
              "       ...,\n",
              "\n",
              "       [[255, 255, 255, ..., 255, 255, 255],\n",
              "        [255, 255, 255, ..., 255, 255, 255],\n",
              "        [255, 255, 255, ..., 255, 255, 255],\n",
              "        ...,\n",
              "        [255, 255, 255, ..., 255, 255, 255],\n",
              "        [255, 255, 255, ..., 255, 255, 255],\n",
              "        [255, 255, 255, ..., 255, 255, 255]],\n",
              "\n",
              "       [[255, 255, 255, ..., 255, 255, 255],\n",
              "        [255, 255, 255, ..., 255, 255, 255],\n",
              "        [255, 255, 255, ..., 255, 255, 255],\n",
              "        ...,\n",
              "        [255, 255, 255, ..., 255, 255, 255],\n",
              "        [255, 255, 255, ..., 255, 255, 255],\n",
              "        [255, 255, 255, ..., 255, 255, 255]],\n",
              "\n",
              "       [[255, 255, 255, ..., 255, 255, 255],\n",
              "        [255, 255, 255, ..., 255, 255, 255],\n",
              "        [255, 255, 255, ..., 255, 255, 255],\n",
              "        ...,\n",
              "        [255, 255, 255, ..., 255, 255, 255],\n",
              "        [255, 255, 255, ..., 255, 255, 255],\n",
              "        [255, 255, 255, ..., 255, 255, 255]]], dtype=uint8)"
            ]
          },
          "metadata": {},
          "execution_count": 14
        }
      ]
    },
    {
      "cell_type": "code",
      "source": [],
      "metadata": {
        "id": "kskbftpNdS6V"
      },
      "execution_count": null,
      "outputs": []
    },
    {
      "cell_type": "code",
      "source": [
        "u0216_labels = u0216_df[\"tag\"]"
      ],
      "metadata": {
        "id": "IEv-wEvmdcIX"
      },
      "execution_count": null,
      "outputs": []
    },
    {
      "cell_type": "code",
      "source": [],
      "metadata": {
        "id": "yfDjhzlarte-"
      },
      "execution_count": null,
      "outputs": []
    },
    {
      "cell_type": "code",
      "source": [
        "len(u0216_labels)"
      ],
      "metadata": {
        "colab": {
          "base_uri": "https://localhost:8080/"
        },
        "id": "UHHXUAwpdxX5",
        "outputId": "f6717027-5799-45b5-e4d9-a194534a3a39"
      },
      "execution_count": null,
      "outputs": [
        {
          "output_type": "execute_result",
          "data": {
            "text/plain": [
              "50"
            ]
          },
          "metadata": {},
          "execution_count": 16
        }
      ]
    },
    {
      "cell_type": "code",
      "source": [
        "len(signer_0216_preprocessed)"
      ],
      "metadata": {
        "colab": {
          "base_uri": "https://localhost:8080/"
        },
        "id": "I1Qz4od0d8ZK",
        "outputId": "1636f825-24a0-4187-babb-938ee2f4ad8a"
      },
      "execution_count": null,
      "outputs": [
        {
          "output_type": "execute_result",
          "data": {
            "text/plain": [
              "50"
            ]
          },
          "metadata": {},
          "execution_count": 17
        }
      ]
    },
    {
      "cell_type": "code",
      "source": [],
      "metadata": {
        "id": "p97k3a6QeHP8"
      },
      "execution_count": null,
      "outputs": []
    },
    {
      "cell_type": "code",
      "source": [
        "X_train, X_test, y_train, y_test = train_test_split(signer_0216_preprocessed, u0216_labels, test_size=0.3)"
      ],
      "metadata": {
        "id": "DIyxJt6deb0f"
      },
      "execution_count": null,
      "outputs": []
    },
    {
      "cell_type": "code",
      "source": [
        "# X_train, X_test, y_train, y_test = train_test_split(signer_18_preprocessed, signer_18_labels, test_size=0.3)"
      ],
      "metadata": {
        "id": "lfQBtNCHr0Uj"
      },
      "execution_count": null,
      "outputs": []
    },
    {
      "cell_type": "code",
      "source": [
        "def extract_lbp(images):\n",
        "    lbps = []\n",
        "    for image in tqdm(images):\n",
        "        lbp = local_binary_pattern(image, P=8, R=1)\n",
        "        lbps.append(lbp)\n",
        "\n",
        "    return np.array(lbps)"
      ],
      "metadata": {
        "id": "7DADpT7BhG7Q"
      },
      "execution_count": null,
      "outputs": []
    },
    {
      "cell_type": "code",
      "source": [
        "X_train_lbp = extract_lbp(X_train)\n",
        "X_test_lbp = extract_lbp(X_test)"
      ],
      "metadata": {
        "colab": {
          "base_uri": "https://localhost:8080/"
        },
        "id": "O2juXDljgXoS",
        "outputId": "f6182c8d-93e5-4e8f-82c8-58ffd9ea66af"
      },
      "execution_count": null,
      "outputs": [
        {
          "output_type": "stream",
          "name": "stderr",
          "text": [
            "100%|██████████| 35/35 [00:01<00:00, 33.37it/s]\n",
            "100%|██████████| 15/15 [00:00<00:00, 33.65it/s]\n"
          ]
        }
      ]
    },
    {
      "cell_type": "code",
      "source": [
        "def create_histograms(images, sub_images_num, bins_per_sub_images):\n",
        "    all_histograms = []\n",
        "    for image in tqdm(images):\n",
        "        grid = np.arange(0, image.shape[1]+1, image.shape[1]//sub_images_num)\n",
        "\n",
        "        sub_image_histograms = []\n",
        "\n",
        "        for i in range(1, len(grid)):\n",
        "            for j in range(1, len(grid)):\n",
        "                sub_image = image[grid[i-1]:grid[i], grid[j-1]:grid[j]]\n",
        "\n",
        "                sub_image_histogram = np.histogram(sub_image, bins=bins_per_sub_images)[0]\n",
        "                sub_image_histograms.append(sub_image_histogram)\n",
        "\n",
        "        histogram = np.array(sub_image_histograms).flatten()\n",
        "        all_histograms.append(histogram)\n",
        "\n",
        "    return np.array(all_histograms)\n"
      ],
      "metadata": {
        "id": "fXaf7SttgcBR"
      },
      "execution_count": null,
      "outputs": []
    },
    {
      "cell_type": "code",
      "source": [
        "X_train_hist = create_histograms(X_train_lbp, sub_images_num=3, bins_per_sub_images=64)\n",
        "X_test_hist = create_histograms(X_test_lbp, sub_images_num=3, bins_per_sub_images=64)\n",
        "\n",
        "print('X_train_hist\\t', X_train_hist.shape)\n",
        "print('X_test_hist\\t', X_test_hist.shape)"
      ],
      "metadata": {
        "colab": {
          "base_uri": "https://localhost:8080/"
        },
        "id": "GIM9zHKamm9I",
        "outputId": "92b4076a-918c-4367-f732-8bc79704e2c9"
      },
      "execution_count": null,
      "outputs": [
        {
          "output_type": "stream",
          "name": "stderr",
          "text": [
            "100%|██████████| 35/35 [00:00<00:00, 166.94it/s]\n",
            "100%|██████████| 15/15 [00:00<00:00, 182.53it/s]"
          ]
        },
        {
          "output_type": "stream",
          "name": "stdout",
          "text": [
            "X_train_hist\t (35, 576)\n",
            "X_test_hist\t (15, 576)\n"
          ]
        },
        {
          "output_type": "stream",
          "name": "stderr",
          "text": [
            "\n"
          ]
        }
      ]
    },
    {
      "cell_type": "code",
      "source": [
        "model_svm = SVC()\n",
        "model_svm.fit(X_train_hist, y_train)\n",
        "svm_train_acc = model_svm.score(X_train_hist, y_train)\n",
        "print('SVM train acc\\t:', svm_train_acc)\n",
        "\n",
        "# Make predictions on the test data\n",
        "y_pred = model_svm.predict(X_test_hist)\n",
        "\n",
        "# Calculate accuracy\n",
        "svm_test_accuracy = accuracy_score(y_test, y_pred)\n",
        "print(\"SVM Accuracy:\", svm_test_accuracy)\n",
        "\n",
        "\n"
      ],
      "metadata": {
        "colab": {
          "base_uri": "https://localhost:8080/"
        },
        "id": "xpgv21m3msCd",
        "outputId": "cccc3704-59ce-4516-97be-faff665c9f83"
      },
      "execution_count": null,
      "outputs": [
        {
          "output_type": "stream",
          "name": "stdout",
          "text": [
            "SVM train acc\t: 0.5714285714285714\n",
            "SVM Accuracy: 0.3333333333333333\n"
          ]
        }
      ]
    },
    {
      "cell_type": "code",
      "source": [
        "model_knn = KNeighborsClassifier(n_neighbors=5)  # You can adjust the number of neighbors (k) as needed\n",
        "model_knn.fit(X_train_hist, y_train)\n",
        "\n",
        "\n",
        "print('KNN train acc\\t:', model_knn.score(X_train_hist, y_train))\n",
        "\n",
        "# Make predictions on the test data\n",
        "y_pred = model_knn.predict(X_test_hist)\n",
        "\n",
        "# Calculate accuracy\n",
        "knn_test_accuracy = accuracy_score(y_test, y_pred)\n",
        "print(\"KNN test Accuracy:\", knn_test_accuracy)\n",
        "\n",
        "# print('KNN test acc\\t:', model_knn.score(X_test_hist, y_test))"
      ],
      "metadata": {
        "colab": {
          "base_uri": "https://localhost:8080/"
        },
        "id": "lDMXrJkmmzrL",
        "outputId": "d6879bec-9d4f-4f06-8e90-50a14af4e4c6"
      },
      "execution_count": null,
      "outputs": [
        {
          "output_type": "stream",
          "name": "stdout",
          "text": [
            "KNN train acc\t: 0.8857142857142857\n",
            "KNN test Accuracy: 0.6666666666666666\n"
          ]
        }
      ]
    },
    {
      "cell_type": "code",
      "source": [
        "random_forest = RandomForestClassifier(n_estimators=100, random_state=42)  # You can adjust the number of trees (n_estimators) as needed\n",
        "random_forest.fit(X_train_hist, y_train)\n",
        "\n",
        "print('Random Forest train acc\\t:', random_forest.score(X_train_hist, y_train))\n",
        "\n",
        "# Make predictions on the test data\n",
        "y_pred = random_forest.predict(X_test_hist)\n",
        "\n",
        "# Calculate accuracy\n",
        "rf_test_accuracy = accuracy_score(y_test, y_pred)\n",
        "print(\"Random forest Accuracy:\", rf_test_accuracy)\n",
        "\n",
        "print('Random Forest test acc\\t:', random_forest.score(X_test_hist, y_test))\n"
      ],
      "metadata": {
        "colab": {
          "base_uri": "https://localhost:8080/"
        },
        "id": "FtwdB-p3nK9A",
        "outputId": "ba301789-6819-4d78-f428-1a94e89c4473"
      },
      "execution_count": null,
      "outputs": [
        {
          "output_type": "stream",
          "name": "stdout",
          "text": [
            "Random Forest train acc\t: 1.0\n",
            "Random forest Accuracy: 0.8\n",
            "Random Forest test acc\t: 0.8\n"
          ]
        }
      ]
    },
    {
      "cell_type": "code",
      "source": [],
      "metadata": {
        "id": "uZiEAanun_ED"
      },
      "execution_count": null,
      "outputs": []
    },
    {
      "cell_type": "code",
      "source": [],
      "metadata": {
        "id": "hHcdEt1YoCnd"
      },
      "execution_count": null,
      "outputs": []
    },
    {
      "cell_type": "code",
      "source": [
        "import matplotlib.pyplot as plt\n",
        "\n",
        "models = ['SVM', 'KNN', 'Random Forest']\n",
        "accuracies = [svm_test_accuracy, knn_test_accuracy, rf_test_accuracy]\n",
        "colors = ['skyblue', 'lightgreen', 'lightcoral']\n",
        "# Plot the bar chart\n",
        "plt.bar(models, accuracies , color= colors)\n",
        "\n",
        "# Add labels and title\n",
        "plt.xlabel('Models')\n",
        "plt.ylabel('Accuracy')\n",
        "plt.title('Performance of Different Models for User 0216 from DeepSign')\n",
        "\n",
        "# Annotate each bar with its value (accuracy)\n",
        "for i, acc in enumerate(accuracies):\n",
        "    plt.text(i, acc, f'{round(acc,2)}', ha='center', va='bottom')\n",
        "\n",
        "# Show the bar chart\n",
        "plt.show()\n"
      ],
      "metadata": {
        "colab": {
          "base_uri": "https://localhost:8080/",
          "height": 472
        },
        "id": "oUwrF2W2p11w",
        "outputId": "553fd0ac-35d6-4236-8238-ef89db0a0561"
      },
      "execution_count": null,
      "outputs": [
        {
          "output_type": "display_data",
          "data": {
            "text/plain": [
              "<Figure size 640x480 with 1 Axes>"
            ],
            "image/png": "[encoded data removed]"
          },
          "metadata": {}
        }
      ]
    },
    {
      "cell_type": "code",
      "source": [],
      "metadata": {
        "id": "-Zs8Gv5qqPO-"
      },
      "execution_count": null,
      "outputs": []
    }
  ]
}